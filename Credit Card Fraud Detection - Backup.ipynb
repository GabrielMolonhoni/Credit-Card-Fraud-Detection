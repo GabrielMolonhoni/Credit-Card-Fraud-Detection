{
 "cells": [
  {
   "cell_type": "markdown",
   "id": "bf82abc5",
   "metadata": {},
   "source": [
    "# Credit Card Fraud Detection"
   ]
  },
  {
   "cell_type": "markdown",
   "id": "fff11396",
   "metadata": {},
   "source": [
    "This work must apply classification concepts do detect frauds in credit card transactions.\n",
    "\n",
    "The dataset can be seen at:https://www.kaggle.com/datasets/mlg-ulb/creditcardfraud."
   ]
  },
  {
   "cell_type": "markdown",
   "id": "b3583fda",
   "metadata": {},
   "source": [
    "### Participants:"
   ]
  },
  {
   "cell_type": "markdown",
   "id": "b682cc2c",
   "metadata": {},
   "source": [
    " - Beatriz Andrade Luiz  - CP3016307\n",
    " - Gabriel Marques Molonhoni - CP3016129"
   ]
  },
  {
   "cell_type": "markdown",
   "id": "e070d1b7",
   "metadata": {},
   "source": [
    "## 1. Introduction"
   ]
  },
  {
   "cell_type": "markdown",
   "id": "49985c9b",
   "metadata": {},
   "source": [
    "This work is about data analisys about credit card transaction and applying machine learning algorithms to classify these transaction in fraud ones or not fraud.\n",
    "\n",
    "#### Context\n",
    "It is important that credit card companies are able to recognize fraudulent credit card transactions so that customers are not charged for items that they did not purchase.\n",
    "\n",
    "#### Content\n",
    "The dataset contains transactions made by credit cards in September 2013 by European cardholders.\n",
    "This dataset presents transactions that occurred in two days, where we have 492 frauds out of 284,807 transactions. The dataset is highly unbalanced, the positive class (frauds) account for 0.172% of all transactions.\n",
    "\n",
    "It contains only numerical input variables which are the result of a PCA transformation. Unfortunately, due to confidentiality issues, we cannot provide the original features and more background information about the data. Features V1, V2, … V28 are the principal components obtained with PCA, the only features which have not been transformed with PCA are 'Time' and 'Amount'. Feature 'Time' contains the seconds elapsed between each transaction and the first transaction in the dataset. The feature 'Amount' is the transaction Amount, this feature can be used for example-dependant cost-sensitive learning. Feature 'Class' is the response variable and it takes value 1 in case of fraud and 0 otherwise.\n",
    "\n",
    "Given the class imbalance ratio, we recommend measuring the accuracy using the Area Under the Precision-Recall Curve (AUPRC). Confusion matrix accuracy is not meaningful for unbalanced classification.\n",
    "\n",
    "#### Acknowledgements\n",
    "The dataset has been collected and analysed during a research collaboration of Worldline and the Machine Learning Group (http://mlg.ulb.ac.be) of ULB (Université Libre de Bruxelles) on big data mining and fraud detection.\n",
    "More details on current and past projects on related topics are available on https://www.researchgate.net/project/Fraud-detection-5 and the page of the DefeatFraud project"
   ]
  },
  {
   "cell_type": "markdown",
   "id": "43ff484f",
   "metadata": {},
   "source": [
    "## 2. Data Loading\n",
    "\n",
    "Data will be loaded using the Pandas library"
   ]
  },
  {
   "cell_type": "code",
   "execution_count": 1,
   "id": "0dcbd470",
   "metadata": {},
   "outputs": [
    {
     "name": "stdout",
     "output_type": "stream",
     "text": [
      "Data loaded sucessfully!\n"
     ]
    }
   ],
   "source": [
    "# import packages\n",
    "import pandas as pd\n",
    "import warnings\n",
    "warnings.filterwarnings(\"ignore\")\n",
    "\n",
    "# load data\n",
    "try:\n",
    "    df_raw = pd.read_csv('./dataset/creditcard.csv')\n",
    "    print('Data loaded sucessfully!')\n",
    "except Exception as e:\n",
    "    print('Error loading data, please check the path')"
   ]
  },
  {
   "cell_type": "code",
   "execution_count": 2,
   "id": "b07ddfc9",
   "metadata": {},
   "outputs": [],
   "source": [
    "import seaborn as sns\n",
    "import matplotlib.pyplot as plt\n",
    "\n",
    "# standard stying for plots/views\n",
    "sns.set_theme(style=\"whitegrid\")\n",
    "plt.rcParams['figure.figsize'] = (10, 6)\n",
    "plt.rcParams['axes.titlesize']= 16\n",
    "plt.rcParams['axes.labelsize'] = 14\n",
    "plt.rcParams['xtick.labelsize'] = 14\n",
    "plt.rcParams['xtick.labelsize'] = 14\n",
    "plt.rcParams['ytick.labelsize'] = 14\n",
    "\n",
    "base_color = '#6495ED'"
   ]
  },
  {
   "cell_type": "markdown",
   "id": "ba3c5a9f",
   "metadata": {},
   "source": [
    "## 3. Data Analisys\n",
    "With the data loaded int a pandas dataframe, let's analyze it better."
   ]
  },
  {
   "cell_type": "code",
   "execution_count": 3,
   "id": "a3b914f7",
   "metadata": {},
   "outputs": [
    {
     "data": {
      "text/html": [
       "<div>\n",
       "<style scoped>\n",
       "    .dataframe tbody tr th:only-of-type {\n",
       "        vertical-align: middle;\n",
       "    }\n",
       "\n",
       "    .dataframe tbody tr th {\n",
       "        vertical-align: top;\n",
       "    }\n",
       "\n",
       "    .dataframe thead th {\n",
       "        text-align: right;\n",
       "    }\n",
       "</style>\n",
       "<table border=\"1\" class=\"dataframe\">\n",
       "  <thead>\n",
       "    <tr style=\"text-align: right;\">\n",
       "      <th></th>\n",
       "      <th>Time</th>\n",
       "      <th>V1</th>\n",
       "      <th>V2</th>\n",
       "      <th>V3</th>\n",
       "      <th>V4</th>\n",
       "      <th>V5</th>\n",
       "      <th>V6</th>\n",
       "      <th>V7</th>\n",
       "      <th>V8</th>\n",
       "      <th>V9</th>\n",
       "      <th>...</th>\n",
       "      <th>V21</th>\n",
       "      <th>V22</th>\n",
       "      <th>V23</th>\n",
       "      <th>V24</th>\n",
       "      <th>V25</th>\n",
       "      <th>V26</th>\n",
       "      <th>V27</th>\n",
       "      <th>V28</th>\n",
       "      <th>Amount</th>\n",
       "      <th>Class</th>\n",
       "    </tr>\n",
       "  </thead>\n",
       "  <tbody>\n",
       "  </tbody>\n",
       "</table>\n",
       "<p>0 rows × 31 columns</p>\n",
       "</div>"
      ],
      "text/plain": [
       "Empty DataFrame\n",
       "Columns: [Time, V1, V2, V3, V4, V5, V6, V7, V8, V9, V10, V11, V12, V13, V14, V15, V16, V17, V18, V19, V20, V21, V22, V23, V24, V25, V26, V27, V28, Amount, Class]\n",
       "Index: []\n",
       "\n",
       "[0 rows x 31 columns]"
      ]
     },
     "execution_count": 3,
     "metadata": {},
     "output_type": "execute_result"
    }
   ],
   "source": [
    "df_raw[df_raw.isna().any(axis=1)]"
   ]
  },
  {
   "cell_type": "code",
   "execution_count": 4,
   "id": "a1614d44",
   "metadata": {},
   "outputs": [
    {
     "name": "stdout",
     "output_type": "stream",
     "text": [
      "<class 'pandas.core.frame.DataFrame'>\n",
      "RangeIndex: 284807 entries, 0 to 284806\n",
      "Data columns (total 31 columns):\n",
      " #   Column  Non-Null Count   Dtype  \n",
      "---  ------  --------------   -----  \n",
      " 0   Time    284807 non-null  float64\n",
      " 1   V1      284807 non-null  float64\n",
      " 2   V2      284807 non-null  float64\n",
      " 3   V3      284807 non-null  float64\n",
      " 4   V4      284807 non-null  float64\n",
      " 5   V5      284807 non-null  float64\n",
      " 6   V6      284807 non-null  float64\n",
      " 7   V7      284807 non-null  float64\n",
      " 8   V8      284807 non-null  float64\n",
      " 9   V9      284807 non-null  float64\n",
      " 10  V10     284807 non-null  float64\n",
      " 11  V11     284807 non-null  float64\n",
      " 12  V12     284807 non-null  float64\n",
      " 13  V13     284807 non-null  float64\n",
      " 14  V14     284807 non-null  float64\n",
      " 15  V15     284807 non-null  float64\n",
      " 16  V16     284807 non-null  float64\n",
      " 17  V17     284807 non-null  float64\n",
      " 18  V18     284807 non-null  float64\n",
      " 19  V19     284807 non-null  float64\n",
      " 20  V20     284807 non-null  float64\n",
      " 21  V21     284807 non-null  float64\n",
      " 22  V22     284807 non-null  float64\n",
      " 23  V23     284807 non-null  float64\n",
      " 24  V24     284807 non-null  float64\n",
      " 25  V25     284807 non-null  float64\n",
      " 26  V26     284807 non-null  float64\n",
      " 27  V27     284807 non-null  float64\n",
      " 28  V28     284807 non-null  float64\n",
      " 29  Amount  284807 non-null  float64\n",
      " 30  Class   284807 non-null  int64  \n",
      "dtypes: float64(30), int64(1)\n",
      "memory usage: 67.4 MB\n"
     ]
    }
   ],
   "source": [
    "df_raw.info()"
   ]
  },
  {
   "cell_type": "markdown",
   "id": "dd45d98f",
   "metadata": {},
   "source": [
    "We have 31 columns, being all numerics.\n",
    "Rows: 284807.\n",
    "\n",
    "The last column 'class' is the result: 1 if fradulent, 0 otherwise.\n",
    "\n",
    "Thankfully, there are no null values."
   ]
  },
  {
   "cell_type": "code",
   "execution_count": 5,
   "id": "abc07956",
   "metadata": {},
   "outputs": [
    {
     "data": {
      "text/plain": [
       "True"
      ]
     },
     "execution_count": 5,
     "metadata": {},
     "output_type": "execute_result"
    }
   ],
   "source": [
    "df_raw.duplicated().any()"
   ]
  },
  {
   "cell_type": "markdown",
   "id": "805e753f",
   "metadata": {},
   "source": [
    "Ooops, we have duplicated values"
   ]
  },
  {
   "cell_type": "code",
   "execution_count": 6,
   "id": "0864d510",
   "metadata": {},
   "outputs": [
    {
     "data": {
      "text/plain": [
       "1081"
      ]
     },
     "execution_count": 6,
     "metadata": {},
     "output_type": "execute_result"
    }
   ],
   "source": [
    "df_raw.duplicated().sum()"
   ]
  },
  {
   "cell_type": "markdown",
   "id": "99a8d37e",
   "metadata": {},
   "source": [
    "In total, we have 1081 duplicated. Should we remove them or do they mean something ?"
   ]
  },
  {
   "cell_type": "code",
   "execution_count": 7,
   "id": "cb7f3f87",
   "metadata": {},
   "outputs": [
    {
     "name": "stdout",
     "output_type": "stream",
     "text": [
      "[19, 1081]\n"
     ]
    },
    {
     "data": {
      "image/png": "[encoded data removed]",
      "text/plain": [
       "<Figure size 432x288 with 1 Axes>"
      ]
     },
     "metadata": {},
     "output_type": "display_data"
    }
   ],
   "source": [
    "#find the duplicated\n",
    "df_duplicated = df_raw.loc[df_raw.duplicated(), :]\n",
    "\n",
    "#plot a pie graph to see clss balacing\n",
    "duplicated = [(df_duplicated['Class'] == 1).sum(), df_duplicated['Class'].shape[0]]\n",
    "print(duplicated)\n",
    "plt.pie(duplicated, labels=['1', '0']) \n",
    "plt.show()"
   ]
  },
  {
   "cell_type": "markdown",
   "id": "00472d77",
   "metadata": {},
   "source": [
    "As we can see, only 1,75% of the duplicated are fradulent and the duplicated are small compared to the whole dataset. I think it's ok to remove them from the dataset."
   ]
  },
  {
   "cell_type": "code",
   "execution_count": 8,
   "id": "68128586",
   "metadata": {},
   "outputs": [
    {
     "data": {
      "text/plain": [
       "(283726, 31)"
      ]
     },
     "execution_count": 8,
     "metadata": {},
     "output_type": "execute_result"
    }
   ],
   "source": [
    "# drop duplicated\n",
    "df_clean = df_raw.drop_duplicates()\n",
    "\n",
    "# check new df size\n",
    "df_clean.shape"
   ]
  },
  {
   "cell_type": "code",
   "execution_count": 9,
   "id": "ba88e0ae",
   "metadata": {},
   "outputs": [
    {
     "data": {
      "text/html": [
       "<div>\n",
       "<style scoped>\n",
       "    .dataframe tbody tr th:only-of-type {\n",
       "        vertical-align: middle;\n",
       "    }\n",
       "\n",
       "    .dataframe tbody tr th {\n",
       "        vertical-align: top;\n",
       "    }\n",
       "\n",
       "    .dataframe thead th {\n",
       "        text-align: right;\n",
       "    }\n",
       "</style>\n",
       "<table border=\"1\" class=\"dataframe\">\n",
       "  <thead>\n",
       "    <tr style=\"text-align: right;\">\n",
       "      <th></th>\n",
       "      <th>Time</th>\n",
       "      <th>V1</th>\n",
       "      <th>V2</th>\n",
       "      <th>V3</th>\n",
       "      <th>V4</th>\n",
       "      <th>V5</th>\n",
       "      <th>V6</th>\n",
       "      <th>V7</th>\n",
       "      <th>V8</th>\n",
       "      <th>V9</th>\n",
       "      <th>...</th>\n",
       "      <th>V21</th>\n",
       "      <th>V22</th>\n",
       "      <th>V23</th>\n",
       "      <th>V24</th>\n",
       "      <th>V25</th>\n",
       "      <th>V26</th>\n",
       "      <th>V27</th>\n",
       "      <th>V28</th>\n",
       "      <th>Amount</th>\n",
       "      <th>Class</th>\n",
       "    </tr>\n",
       "  </thead>\n",
       "  <tbody>\n",
       "    <tr>\n",
       "      <th>count</th>\n",
       "      <td>283726.000000</td>\n",
       "      <td>283726.000000</td>\n",
       "      <td>283726.000000</td>\n",
       "      <td>283726.000000</td>\n",
       "      <td>283726.000000</td>\n",
       "      <td>283726.000000</td>\n",
       "      <td>283726.000000</td>\n",
       "      <td>283726.000000</td>\n",
       "      <td>283726.000000</td>\n",
       "      <td>283726.000000</td>\n",
       "      <td>...</td>\n",
       "      <td>283726.000000</td>\n",
       "      <td>283726.000000</td>\n",
       "      <td>283726.000000</td>\n",
       "      <td>283726.000000</td>\n",
       "      <td>283726.000000</td>\n",
       "      <td>283726.000000</td>\n",
       "      <td>283726.000000</td>\n",
       "      <td>283726.000000</td>\n",
       "      <td>283726.000000</td>\n",
       "      <td>283726.000000</td>\n",
       "    </tr>\n",
       "    <tr>\n",
       "      <th>mean</th>\n",
       "      <td>94811.077600</td>\n",
       "      <td>0.005917</td>\n",
       "      <td>-0.004135</td>\n",
       "      <td>0.001613</td>\n",
       "      <td>-0.002966</td>\n",
       "      <td>0.001828</td>\n",
       "      <td>-0.001139</td>\n",
       "      <td>0.001801</td>\n",
       "      <td>-0.000854</td>\n",
       "      <td>-0.001596</td>\n",
       "      <td>...</td>\n",
       "      <td>-0.000371</td>\n",
       "      <td>-0.000015</td>\n",
       "      <td>0.000198</td>\n",
       "      <td>0.000214</td>\n",
       "      <td>-0.000232</td>\n",
       "      <td>0.000149</td>\n",
       "      <td>0.001763</td>\n",
       "      <td>0.000547</td>\n",
       "      <td>88.472687</td>\n",
       "      <td>0.001667</td>\n",
       "    </tr>\n",
       "    <tr>\n",
       "      <th>std</th>\n",
       "      <td>47481.047891</td>\n",
       "      <td>1.948026</td>\n",
       "      <td>1.646703</td>\n",
       "      <td>1.508682</td>\n",
       "      <td>1.414184</td>\n",
       "      <td>1.377008</td>\n",
       "      <td>1.331931</td>\n",
       "      <td>1.227664</td>\n",
       "      <td>1.179054</td>\n",
       "      <td>1.095492</td>\n",
       "      <td>...</td>\n",
       "      <td>0.723909</td>\n",
       "      <td>0.724550</td>\n",
       "      <td>0.623702</td>\n",
       "      <td>0.605627</td>\n",
       "      <td>0.521220</td>\n",
       "      <td>0.482053</td>\n",
       "      <td>0.395744</td>\n",
       "      <td>0.328027</td>\n",
       "      <td>250.399437</td>\n",
       "      <td>0.040796</td>\n",
       "    </tr>\n",
       "    <tr>\n",
       "      <th>min</th>\n",
       "      <td>0.000000</td>\n",
       "      <td>-56.407510</td>\n",
       "      <td>-72.715728</td>\n",
       "      <td>-48.325589</td>\n",
       "      <td>-5.683171</td>\n",
       "      <td>-113.743307</td>\n",
       "      <td>-26.160506</td>\n",
       "      <td>-43.557242</td>\n",
       "      <td>-73.216718</td>\n",
       "      <td>-13.434066</td>\n",
       "      <td>...</td>\n",
       "      <td>-34.830382</td>\n",
       "      <td>-10.933144</td>\n",
       "      <td>-44.807735</td>\n",
       "      <td>-2.836627</td>\n",
       "      <td>-10.295397</td>\n",
       "      <td>-2.604551</td>\n",
       "      <td>-22.565679</td>\n",
       "      <td>-15.430084</td>\n",
       "      <td>0.000000</td>\n",
       "      <td>0.000000</td>\n",
       "    </tr>\n",
       "    <tr>\n",
       "      <th>25%</th>\n",
       "      <td>54204.750000</td>\n",
       "      <td>-0.915951</td>\n",
       "      <td>-0.600321</td>\n",
       "      <td>-0.889682</td>\n",
       "      <td>-0.850134</td>\n",
       "      <td>-0.689830</td>\n",
       "      <td>-0.769031</td>\n",
       "      <td>-0.552509</td>\n",
       "      <td>-0.208828</td>\n",
       "      <td>-0.644221</td>\n",
       "      <td>...</td>\n",
       "      <td>-0.228305</td>\n",
       "      <td>-0.542700</td>\n",
       "      <td>-0.161703</td>\n",
       "      <td>-0.354453</td>\n",
       "      <td>-0.317485</td>\n",
       "      <td>-0.326763</td>\n",
       "      <td>-0.070641</td>\n",
       "      <td>-0.052818</td>\n",
       "      <td>5.600000</td>\n",
       "      <td>0.000000</td>\n",
       "    </tr>\n",
       "    <tr>\n",
       "      <th>50%</th>\n",
       "      <td>84692.500000</td>\n",
       "      <td>0.020384</td>\n",
       "      <td>0.063949</td>\n",
       "      <td>0.179963</td>\n",
       "      <td>-0.022248</td>\n",
       "      <td>-0.053468</td>\n",
       "      <td>-0.275168</td>\n",
       "      <td>0.040859</td>\n",
       "      <td>0.021898</td>\n",
       "      <td>-0.052596</td>\n",
       "      <td>...</td>\n",
       "      <td>-0.029441</td>\n",
       "      <td>0.006675</td>\n",
       "      <td>-0.011159</td>\n",
       "      <td>0.041016</td>\n",
       "      <td>0.016278</td>\n",
       "      <td>-0.052172</td>\n",
       "      <td>0.001479</td>\n",
       "      <td>0.011288</td>\n",
       "      <td>22.000000</td>\n",
       "      <td>0.000000</td>\n",
       "    </tr>\n",
       "    <tr>\n",
       "      <th>75%</th>\n",
       "      <td>139298.000000</td>\n",
       "      <td>1.316068</td>\n",
       "      <td>0.800283</td>\n",
       "      <td>1.026960</td>\n",
       "      <td>0.739647</td>\n",
       "      <td>0.612218</td>\n",
       "      <td>0.396792</td>\n",
       "      <td>0.570474</td>\n",
       "      <td>0.325704</td>\n",
       "      <td>0.595977</td>\n",
       "      <td>...</td>\n",
       "      <td>0.186194</td>\n",
       "      <td>0.528245</td>\n",
       "      <td>0.147748</td>\n",
       "      <td>0.439738</td>\n",
       "      <td>0.350667</td>\n",
       "      <td>0.240261</td>\n",
       "      <td>0.091208</td>\n",
       "      <td>0.078276</td>\n",
       "      <td>77.510000</td>\n",
       "      <td>0.000000</td>\n",
       "    </tr>\n",
       "    <tr>\n",
       "      <th>max</th>\n",
       "      <td>172792.000000</td>\n",
       "      <td>2.454930</td>\n",
       "      <td>22.057729</td>\n",
       "      <td>9.382558</td>\n",
       "      <td>16.875344</td>\n",
       "      <td>34.801666</td>\n",
       "      <td>73.301626</td>\n",
       "      <td>120.589494</td>\n",
       "      <td>20.007208</td>\n",
       "      <td>15.594995</td>\n",
       "      <td>...</td>\n",
       "      <td>27.202839</td>\n",
       "      <td>10.503090</td>\n",
       "      <td>22.528412</td>\n",
       "      <td>4.584549</td>\n",
       "      <td>7.519589</td>\n",
       "      <td>3.517346</td>\n",
       "      <td>31.612198</td>\n",
       "      <td>33.847808</td>\n",
       "      <td>25691.160000</td>\n",
       "      <td>1.000000</td>\n",
       "    </tr>\n",
       "  </tbody>\n",
       "</table>\n",
       "<p>8 rows × 31 columns</p>\n",
       "</div>"
      ],
      "text/plain": [
       "                Time             V1             V2             V3  \\\n",
       "count  283726.000000  283726.000000  283726.000000  283726.000000   \n",
       "mean    94811.077600       0.005917      -0.004135       0.001613   \n",
       "std     47481.047891       1.948026       1.646703       1.508682   \n",
       "min         0.000000     -56.407510     -72.715728     -48.325589   \n",
       "25%     54204.750000      -0.915951      -0.600321      -0.889682   \n",
       "50%     84692.500000       0.020384       0.063949       0.179963   \n",
       "75%    139298.000000       1.316068       0.800283       1.026960   \n",
       "max    172792.000000       2.454930      22.057729       9.382558   \n",
       "\n",
       "                  V4             V5             V6             V7  \\\n",
       "count  283726.000000  283726.000000  283726.000000  283726.000000   \n",
       "mean       -0.002966       0.001828      -0.001139       0.001801   \n",
       "std         1.414184       1.377008       1.331931       1.227664   \n",
       "min        -5.683171    -113.743307     -26.160506     -43.557242   \n",
       "25%        -0.850134      -0.689830      -0.769031      -0.552509   \n",
       "50%        -0.022248      -0.053468      -0.275168       0.040859   \n",
       "75%         0.739647       0.612218       0.396792       0.570474   \n",
       "max        16.875344      34.801666      73.301626     120.589494   \n",
       "\n",
       "                  V8             V9  ...            V21            V22  \\\n",
       "count  283726.000000  283726.000000  ...  283726.000000  283726.000000   \n",
       "mean       -0.000854      -0.001596  ...      -0.000371      -0.000015   \n",
       "std         1.179054       1.095492  ...       0.723909       0.724550   \n",
       "min       -73.216718     -13.434066  ...     -34.830382     -10.933144   \n",
       "25%        -0.208828      -0.644221  ...      -0.228305      -0.542700   \n",
       "50%         0.021898      -0.052596  ...      -0.029441       0.006675   \n",
       "75%         0.325704       0.595977  ...       0.186194       0.528245   \n",
       "max        20.007208      15.594995  ...      27.202839      10.503090   \n",
       "\n",
       "                 V23            V24            V25            V26  \\\n",
       "count  283726.000000  283726.000000  283726.000000  283726.000000   \n",
       "mean        0.000198       0.000214      -0.000232       0.000149   \n",
       "std         0.623702       0.605627       0.521220       0.482053   \n",
       "min       -44.807735      -2.836627     -10.295397      -2.604551   \n",
       "25%        -0.161703      -0.354453      -0.317485      -0.326763   \n",
       "50%        -0.011159       0.041016       0.016278      -0.052172   \n",
       "75%         0.147748       0.439738       0.350667       0.240261   \n",
       "max        22.528412       4.584549       7.519589       3.517346   \n",
       "\n",
       "                 V27            V28         Amount          Class  \n",
       "count  283726.000000  283726.000000  283726.000000  283726.000000  \n",
       "mean        0.001763       0.000547      88.472687       0.001667  \n",
       "std         0.395744       0.328027     250.399437       0.040796  \n",
       "min       -22.565679     -15.430084       0.000000       0.000000  \n",
       "25%        -0.070641      -0.052818       5.600000       0.000000  \n",
       "50%         0.001479       0.011288      22.000000       0.000000  \n",
       "75%         0.091208       0.078276      77.510000       0.000000  \n",
       "max        31.612198      33.847808   25691.160000       1.000000  \n",
       "\n",
       "[8 rows x 31 columns]"
      ]
     },
     "execution_count": 9,
     "metadata": {},
     "output_type": "execute_result"
    }
   ],
   "source": [
    "df_clean.describe()"
   ]
  },
  {
   "cell_type": "code",
   "execution_count": 10,
   "id": "9144aeac",
   "metadata": {},
   "outputs": [
    {
     "data": {
      "image/png": "[encoded data removed]",
      "text/plain": [
       "<Figure size 1440x1080 with 36 Axes>"
      ]
     },
     "metadata": {
      "needs_background": "light"
     },
     "output_type": "display_data"
    }
   ],
   "source": [
    "# plot a histogram for each numeric attibute from the dataframe\n",
    "df_clean.hist(bins=50, figsize=(20,15))\n",
    "display()  # just to avoid texts in the notebook output"
   ]
  },
  {
   "cell_type": "markdown",
   "id": "e8343afb",
   "metadata": {},
   "source": [
    "Plotting the histogram for each numeric attribute, we can seer most looks like gaussian curve.\n",
    "We can see that there is a disbalance in the Class attribute, we must pay attention to this wen creating ou machine learning model."
   ]
  },
  {
   "cell_type": "code",
   "execution_count": 11,
   "id": "e1820513",
   "metadata": {},
   "outputs": [
    {
     "data": {
      "image/png": "[encoded data removed]",
      "text/plain": [
       "<Figure size 576x432 with 1 Axes>"
      ]
     },
     "metadata": {
      "needs_background": "light"
     },
     "output_type": "display_data"
    },
    {
     "name": "stdout",
     "output_type": "stream",
     "text": [
      "[473, 283726]\n"
     ]
    },
    {
     "data": {
      "image/png": "[encoded data removed]",
      "text/plain": [
       "<Figure size 432x288 with 1 Axes>"
      ]
     },
     "metadata": {},
     "output_type": "display_data"
    }
   ],
   "source": [
    "\n",
    "plt.figure(figsize=(8, 6))\n",
    "sns.histplot(df_clean['Class'])\n",
    "plt.grid(True)\n",
    "plt.show()\n",
    "\n",
    "#plot a pie graph to see class balacing\n",
    "df_class = [(df_clean['Class'] == 1).sum(), df_clean['Class'].shape[0]]\n",
    "print(df_class)\n",
    "plt.pie(df_class, labels=['1', '0']) \n",
    "plt.show()"
   ]
  },
  {
   "cell_type": "markdown",
   "id": "5a542202",
   "metadata": {},
   "source": [
    "We can see numerically the disbalance. **0.1% are fradulent!**"
   ]
  },
  {
   "cell_type": "markdown",
   "id": "ec977287",
   "metadata": {},
   "source": [
    "## 2.1 Univariate Analysis\n",
    "Let's see if we can learn something about each attribute that we know what they mean:\n",
    "- Time\n",
    "- Amount"
   ]
  },
  {
   "cell_type": "code",
   "execution_count": 12,
   "id": "18f95d66",
   "metadata": {},
   "outputs": [],
   "source": [
    "#divide between positive and negative class\n",
    "df_positive = df_clean[df_clean['Class'] == 1]\n",
    "df_negative = df_clean[df_clean['Class'] == 0]"
   ]
  },
  {
   "cell_type": "markdown",
   "id": "b9daa063",
   "metadata": {},
   "source": [
    "### 2.1.1 Univariate Analysis - Time\n",
    "Feature 'Time' contains the seconds elapsed between each transaction and the first transaction in the dataset."
   ]
  },
  {
   "cell_type": "code",
   "execution_count": 13,
   "id": "31826ae4",
   "metadata": {},
   "outputs": [
    {
     "data": {
      "text/plain": [
       "count    283726.000000\n",
       "mean      94811.077600\n",
       "std       47481.047891\n",
       "min           0.000000\n",
       "25%       54204.750000\n",
       "50%       84692.500000\n",
       "75%      139298.000000\n",
       "max      172792.000000\n",
       "Name: Time, dtype: float64"
      ]
     },
     "execution_count": 13,
     "metadata": {},
     "output_type": "execute_result"
    }
   ],
   "source": [
    "df_clean['Time'].describe()"
   ]
  },
  {
   "cell_type": "code",
   "execution_count": 14,
   "id": "3fda3307",
   "metadata": {},
   "outputs": [
    {
     "data": {
      "text/plain": [
       "array([0.00000e+00, 1.00000e+00, 2.00000e+00, ..., 1.72787e+05,\n",
       "       1.72788e+05, 1.72792e+05])"
      ]
     },
     "execution_count": 14,
     "metadata": {},
     "output_type": "execute_result"
    }
   ],
   "source": [
    "df_clean['Time'].unique()"
   ]
  },
  {
   "cell_type": "code",
   "execution_count": 15,
   "id": "c52d9225",
   "metadata": {},
   "outputs": [
    {
     "data": {
      "image/png": "[encoded data removed]",
      "text/plain": [
       "<Figure size 432x288 with 1 Axes>"
      ]
     },
     "metadata": {
      "needs_background": "light"
     },
     "output_type": "display_data"
    }
   ],
   "source": [
    "sns.histplot(df_clean['Time'], kde=True)\n",
    "plt.xlabel('Time (s)')\n",
    "plt.ylabel('Count')\n",
    "plt.title('Time Histogram')\n",
    "plt.show()"
   ]
  },
  {
   "cell_type": "code",
   "execution_count": 16,
   "id": "63652ef3",
   "metadata": {},
   "outputs": [
    {
     "data": {
      "image/png": "[encoded data removed]",
      "text/plain": [
       "<Figure size 432x288 with 1 Axes>"
      ]
     },
     "metadata": {
      "needs_background": "light"
     },
     "output_type": "display_data"
    }
   ],
   "source": [
    "sns.boxplot(data=df_clean, x='Time')\n",
    "plt.title('Time Boxplot')\n",
    "plt.show()"
   ]
  },
  {
   "cell_type": "code",
   "execution_count": 17,
   "id": "907f1579",
   "metadata": {},
   "outputs": [
    {
     "data": {
      "image/png": "[encoded data removed]",
      "text/plain": [
       "<Figure size 432x288 with 1 Axes>"
      ]
     },
     "metadata": {
      "needs_background": "light"
     },
     "output_type": "display_data"
    },
    {
     "data": {
      "image/png": "[encoded data removed]",
      "text/plain": [
       "<Figure size 432x288 with 1 Axes>"
      ]
     },
     "metadata": {
      "needs_background": "light"
     },
     "output_type": "display_data"
    }
   ],
   "source": [
    "sns.histplot(df_positive['Time'], kde=True)\n",
    "plt.xlabel('Time (s)')\n",
    "plt.ylabel('Count')\n",
    "plt.title('Positive Class - Time Histogram')\n",
    "plt.show()\n",
    "\n",
    "sns.histplot(df_negative['Time'], kde=True)\n",
    "plt.xlabel('Time (s)')\n",
    "plt.ylabel('Count')\n",
    "plt.title('Negative Class - Time Histogram')\n",
    "plt.show()"
   ]
  },
  {
   "cell_type": "markdown",
   "id": "be1e386a",
   "metadata": {},
   "source": [
    "### 2.1.2 Univariate Analysis - Amount\n",
    "The feature 'Amount' is the transaction Amount, this feature can be used for example-dependant cost-sensitive learning"
   ]
  },
  {
   "cell_type": "code",
   "execution_count": 18,
   "id": "4d72649a",
   "metadata": {},
   "outputs": [
    {
     "data": {
      "text/plain": [
       "count    283726.000000\n",
       "mean         88.472687\n",
       "std         250.399437\n",
       "min           0.000000\n",
       "25%           5.600000\n",
       "50%          22.000000\n",
       "75%          77.510000\n",
       "max       25691.160000\n",
       "Name: Amount, dtype: float64"
      ]
     },
     "execution_count": 18,
     "metadata": {},
     "output_type": "execute_result"
    }
   ],
   "source": [
    "df_clean['Amount'].describe()"
   ]
  },
  {
   "cell_type": "code",
   "execution_count": 19,
   "id": "6bade217",
   "metadata": {},
   "outputs": [
    {
     "data": {
      "text/plain": [
       "array([149.62,   2.69, 378.66, ..., 381.05, 337.54,  95.63])"
      ]
     },
     "execution_count": 19,
     "metadata": {},
     "output_type": "execute_result"
    }
   ],
   "source": [
    "df_clean['Amount'].unique()"
   ]
  },
  {
   "cell_type": "code",
   "execution_count": 20,
   "id": "70b09d79",
   "metadata": {},
   "outputs": [
    {
     "data": {
      "image/png": "[encoded data removed]",
      "text/plain": [
       "<Figure size 432x288 with 1 Axes>"
      ]
     },
     "metadata": {
      "needs_background": "light"
     },
     "output_type": "display_data"
    }
   ],
   "source": [
    "sns.histplot(df_clean['Amount'], kde=True)\n",
    "plt.xlabel('Amount')\n",
    "plt.ylabel('Count')\n",
    "plt.ylim(0, 8000)\n",
    "plt.title('Amount Histogram')\n",
    "plt.show()"
   ]
  },
  {
   "cell_type": "code",
   "execution_count": 21,
   "id": "8711fd64",
   "metadata": {},
   "outputs": [
    {
     "data": {
      "image/png": "[encoded data removed]",
      "text/plain": [
       "<Figure size 432x288 with 1 Axes>"
      ]
     },
     "metadata": {
      "needs_background": "light"
     },
     "output_type": "display_data"
    }
   ],
   "source": [
    "sns.boxplot(data=df_clean, x='Amount')\n",
    "plt.title('Amount Boxplot')\n",
    "plt.show()"
   ]
  },
  {
   "cell_type": "code",
   "execution_count": 22,
   "id": "65ea184f",
   "metadata": {
    "scrolled": true
   },
   "outputs": [
    {
     "data": {
      "image/png": "[encoded data removed]",
      "text/plain": [
       "<Figure size 432x288 with 1 Axes>"
      ]
     },
     "metadata": {
      "needs_background": "light"
     },
     "output_type": "display_data"
    },
    {
     "data": {
      "image/png": "[encoded data removed]",
      "text/plain": [
       "<Figure size 432x288 with 1 Axes>"
      ]
     },
     "metadata": {
      "needs_background": "light"
     },
     "output_type": "display_data"
    }
   ],
   "source": [
    "sns.histplot(df_positive['Amount'], kde=True)\n",
    "plt.xlabel('Amount')\n",
    "plt.ylabel('Count')\n",
    "plt.title('Positive Class - Amount Histogram')\n",
    "plt.show()\n",
    "\n",
    "sns.histplot(df_negative['Amount'], kde=True)\n",
    "plt.xlabel('Amount (s)')\n",
    "plt.ylabel('Count')\n",
    "plt.ylim(0, 8000)\n",
    "plt.title('Negative Class - Amount Histogram')\n",
    "plt.show()"
   ]
  },
  {
   "cell_type": "markdown",
   "id": "a4dd8161",
   "metadata": {},
   "source": [
    "At least, most of fradulent transactions are low value."
   ]
  },
  {
   "cell_type": "markdown",
   "id": "f22f77ef",
   "metadata": {},
   "source": [
    "## 2.2 Bivariate Analysis\n",
    "- We use bivariate analysis to find out relations between two variables.\n",
    "- For bivariate analysis, usually we use: bloxplot (categorical vs numerical), dispersion graph (numerical vs numerical) or contigence table(categorical vs categorical)\n"
   ]
  },
  {
   "cell_type": "code",
   "execution_count": 23,
   "id": "cc1a634c",
   "metadata": {
    "scrolled": true
   },
   "outputs": [
    {
     "data": {
      "text/plain": [
       "Text(0, 0.5, 'Amount')"
      ]
     },
     "execution_count": 23,
     "metadata": {},
     "output_type": "execute_result"
    },
    {
     "data": {
      "image/png": "[encoded data removed]",
      "text/plain": [
       "<Figure size 432x288 with 1 Axes>"
      ]
     },
     "metadata": {
      "needs_background": "light"
     },
     "output_type": "display_data"
    }
   ],
   "source": [
    "plt.scatter(df_clean['Time'], df_clean['Amount'])\n",
    "plt.title('Time vs Amount')\n",
    "plt.xlabel('Time')\n",
    "plt.ylabel('Amount')"
   ]
  },
  {
   "cell_type": "markdown",
   "id": "e083f8d9",
   "metadata": {},
   "source": [
    "This dispersion graph doesn't show any relation between time and amount."
   ]
  },
  {
   "cell_type": "markdown",
   "id": "b34b9f05",
   "metadata": {},
   "source": [
    "### 2.3 Correlation among variables"
   ]
  },
  {
   "cell_type": "code",
   "execution_count": 25,
   "id": "5dcb9422",
   "metadata": {},
   "outputs": [],
   "source": [
    "# uncomment if wants to see. It's very low to run\n",
    "sns.pairplot(data=df_clean)"
   ]
  },
  {
   "cell_type": "markdown",
   "id": "701e148a",
   "metadata": {},
   "source": [
    "## 3. Creating training and test datasets\n",
    "Considering our dataset is ready for machine learning dataset, let's divide it into train and test datasets.\n",
    "The proportion will be:\n",
    "- 75% for training\n",
    "- 25% for testing"
   ]
  },
  {
   "cell_type": "code",
   "execution_count": 26,
   "id": "5d97cee2",
   "metadata": {},
   "outputs": [
    {
     "name": "stdout",
     "output_type": "stream",
     "text": [
      "(212794, 30)\n",
      "(70932, 30)\n"
     ]
    }
   ],
   "source": [
    "from sklearn.model_selection import train_test_split\n",
    "\n",
    "y_column = 'Class'\n",
    "y = df_clean[y_column]\n",
    "\n",
    "X = df_clean[df_clean.columns.drop(y_column)]\n",
    "\n",
    "X_train, X_test, y_train, y_test = train_test_split(X, y, test_size=0.25, random_state=42)\n",
    "print(X_train.shape)\n",
    "print(X_test.shape)"
   ]
  },
  {
   "cell_type": "markdown",
   "id": "e622d011",
   "metadata": {},
   "source": [
    "Remember that the dataset is unbalanced."
   ]
  },
  {
   "cell_type": "markdown",
   "id": "c2d6e537",
   "metadata": {},
   "source": [
    "## 4. Creating and Evaluating Machine Learning models"
   ]
  },
  {
   "cell_type": "markdown",
   "id": "da19d4d1",
   "metadata": {},
   "source": [
    "Function to print accuracy"
   ]
  },
  {
   "cell_type": "code",
   "execution_count": 27,
   "id": "2abdc156",
   "metadata": {},
   "outputs": [],
   "source": [
    "import numpy as np\n",
    "from sklearn.model_selection import cross_val_score\n",
    "from sklearn.metrics import classification_report, confusion_matrix, precision_recall_curve\n",
    "from sklearn.metrics import accuracy_score, precision_score, f1_score, recall_score, auc\n",
    "\n",
    "# printing functions\n",
    "def display_scores(scores):\n",
    "    #print(\"Scores:\", scores)\n",
    "    print(\"Training Recall (mean): %.3f\" % scores.mean())\n",
    "    print(\"Standard deviation: %.3f\" % scores.std())\n",
    "    print() #spacing"
   ]
  },
  {
   "cell_type": "code",
   "execution_count": 28,
   "id": "7319c86c",
   "metadata": {},
   "outputs": [],
   "source": [
    "def display_confusion_matrix(predicted, tested):\n",
    "    print(classification_report(tested,predicted))  \n",
    "    \n",
    "    \n",
    "    class_names=[0,1] # name  of classes\n",
    "    fig, ax = plt.subplots()\n",
    "    tick_marks = np.arange(len(class_names))\n",
    "    plt.xticks(tick_marks, class_names)\n",
    "    plt.yticks(tick_marks, class_names)\n",
    "    # create heatmap\n",
    "    sns.heatmap(pd.DataFrame(confusion_matrix(tested, predicted)), annot=True,  annot_kws={\"size\": 16}, cmap=\"YlGnBu\")    \n",
    "    ax.xaxis.set_label_position(\"top\")\n",
    "    plt.tight_layout()\n",
    "    plt.title('Confusion matrix', y=1.1)\n",
    "    plt.ylabel('Actual label')\n",
    "    plt.xlabel('Predicted label')\n",
    "    # show the plot\n",
    "    plt.show()"
   ]
  },
  {
   "cell_type": "code",
   "execution_count": 29,
   "id": "043cd639",
   "metadata": {},
   "outputs": [],
   "source": [
    "def print_auprc(x_test, y_test, y_pred, y_prob):\n",
    "    y_prob = y_prob[:, 1]\n",
    "    precision, recall, _ = precision_recall_curve(y_test, y_prob)\n",
    "    f1, auc_value = f1_score(y_test, y_pred), auc(recall, precision)\n",
    "\n",
    "    # plot the precision-recall curves\n",
    "    no_skill = len(y_test[y_test==1]) / len(y_test)\n",
    "    plt.plot([0, 1], [no_skill, no_skill], linestyle='--', label='No Skill')\n",
    "    plt.plot(recall, precision, marker='.', label='Logistic')\n",
    "    # axis labels\n",
    "    plt.xlabel('Recall')\n",
    "    plt.ylabel('Precision')\n",
    "    # show the plot\n",
    "    plt.show()\n",
    "    \n",
    "    # summarize scores\n",
    "    #print('Scores: f1=%.3f auc=%.3f' % (f1, auc_value))\n",
    "    \n",
    "    return f1, auc_value"
   ]
  },
  {
   "cell_type": "code",
   "execution_count": 30,
   "id": "c361742e",
   "metadata": {},
   "outputs": [],
   "source": [
    "def train_test_model(model, x_train, y_train, x_test, y_test):\n",
    "    model.fit(X_train, y_train)\n",
    "    y_pred = model.predict(x_test)\n",
    "    display_confusion_matrix(y_pred, y_test)\n",
    "    \n",
    "    print(type(model).__name__)\n",
    "    \n",
    "    #svm does not have predict_proba, so we cant calculate auprc\n",
    "    if type(model).__name__ == 'LinearSVC' or type(model).__name__ == 'SVC':\n",
    "        print(\"Test Summary:\")\n",
    "        print('Accuracy: %.3f' % accuracy_score(y_test, y_pred))\n",
    "        print('Precision: %.3f' % precision_score(y_test, y_pred))\n",
    "        print('F1 Score: %.3f ' %  f1_score(y_test, y_pred))\n",
    "        print('Recall Score: %.3f ' %  recall_score(y_test, y_pred))\n",
    "    else:    \n",
    "        y_prob = model.predict_proba(X_test)\n",
    "        f1, auc_value = print_auprc(X_test, y_test, y_pred, y_prob)\n",
    "        print(\"Test Summary:\")\n",
    "        print('Accuracy: %.3f' % accuracy_score(y_test, y_pred))\n",
    "        print('AUPRC: %.3f ' %  auc_value)\n",
    "        print('Precision: %.3f' % precision_score(y_test, y_pred))\n",
    "        print('F1 Score: %.3f ' %  f1_score(y_test, y_pred))\n",
    "        print('Recall Score: %.3f ' %  recall_score(y_test, y_pred))"
   ]
  },
  {
   "cell_type": "code",
   "execution_count": null,
   "id": "9efe0227",
   "metadata": {},
   "outputs": [],
   "source": []
  },
  {
   "cell_type": "code",
   "execution_count": 31,
   "id": "26fd8efd",
   "metadata": {},
   "outputs": [],
   "source": [
    "def test_model(model, x_test, y_test):\n",
    "    y_pred = model.predict(x_test) \n",
    "    if type(model).__name__ == 'LinearSVC' or type(model).__name__ == 'SVC':\n",
    "        print(\"Test Summary:\")\n",
    "        print('Accuracy: %.3f' % accuracy_score(y_test, y_pred))\n",
    "        print('Precision: %.3f' % precision_score(y_test, y_pred))\n",
    "        print('F1 Score: %.3f ' %  f1_score(y_test, y_pred))\n",
    "        print('Recall Score: %.3f ' %  recall_score(y_test, y_pred))\n",
    "    else:    \n",
    "        y_prob = model.predict_proba(x_test)\n",
    "        f1, auc_value = print_auprc(x_test, y_test, y_pred, y_prob)\n",
    "        print(\"Test Summary:\")\n",
    "        print('Accuracy: %.3f' % accuracy_score(y_test, y_pred))\n",
    "        print('AUPRC: %.3f ' %  auc_value)\n",
    "        print('Precision: %.3f' % precision_score(y_test, y_pred))\n",
    "        print('F1 Score: %.3f ' %  f1_score(y_test, y_pred))\n",
    "        print('Recall Score: %.3f ' %  recall_score(y_test, y_pred))\n",
    "    return y_pred"
   ]
  },
  {
   "cell_type": "code",
   "execution_count": null,
   "id": "88180e2b",
   "metadata": {},
   "outputs": [],
   "source": []
  },
  {
   "cell_type": "markdown",
   "id": "25b1fb1c",
   "metadata": {},
   "source": [
    "### 4.1 Logistic Regression"
   ]
  },
  {
   "cell_type": "code",
   "execution_count": 32,
   "id": "d90c3d8e",
   "metadata": {},
   "outputs": [
    {
     "name": "stdout",
     "output_type": "stream",
     "text": [
      "Training Recall (mean): 0.717\n",
      "Standard deviation: 0.093\n",
      "\n"
     ]
    }
   ],
   "source": [
    "from sklearn.linear_model import LogisticRegression\n",
    "\n",
    "log_reg = LogisticRegression(random_state=42)\n",
    "log_reg_results = cross_val_score(log_reg, X_train, y_train, cv=5, scoring='recall')\n",
    "\n",
    "display_scores(log_reg_results)\n",
    "\n",
    "#train_test_model(log_reg, X_train, y_train, X_test, y_test)"
   ]
  },
  {
   "cell_type": "code",
   "execution_count": 33,
   "id": "24d7bd19",
   "metadata": {},
   "outputs": [
    {
     "name": "stdout",
     "output_type": "stream",
     "text": [
      "Time taken: 0 hours 0 minutes and 3.35 seconds.\n"
     ]
    }
   ],
   "source": [
    "from datetime import datetime\n",
    "\n",
    "start_time = datetime.now()\n",
    "\n",
    "log_reg.fit(X_train, y_train)\n",
    "\n",
    "time_hour, temp_sec = divmod((datetime.now() - start_time).total_seconds(), 3600)\n",
    "time_min, time_sec = divmod(temp_sec, 60)\n",
    "\n",
    "print('Time taken: %i hours %i minutes and %s seconds.' % (time_hour, time_min, round(time_sec, 2)))\n"
   ]
  },
  {
   "cell_type": "code",
   "execution_count": 34,
   "id": "37d5cddc",
   "metadata": {},
   "outputs": [
    {
     "data": {
      "image/png": "[encoded data removed]",
      "text/plain": [
       "<Figure size 432x288 with 1 Axes>"
      ]
     },
     "metadata": {
      "needs_background": "light"
     },
     "output_type": "display_data"
    },
    {
     "name": "stdout",
     "output_type": "stream",
     "text": [
      "Test Summary:\n",
      "Accuracy: 0.999\n",
      "AUPRC: 0.559 \n",
      "Precision: 0.774\n",
      "F1 Score: 0.702 \n",
      "Recall Score: 0.643 \n"
     ]
    }
   ],
   "source": [
    "log_reg_pred = test_model(log_reg, X_test, y_test)"
   ]
  },
  {
   "cell_type": "code",
   "execution_count": 35,
   "id": "c13a512b",
   "metadata": {},
   "outputs": [
    {
     "name": "stdout",
     "output_type": "stream",
     "text": [
      "              precision    recall  f1-score   support\n",
      "\n",
      "           0       1.00      1.00      1.00     70820\n",
      "           1       0.77      0.64      0.70       112\n",
      "\n",
      "    accuracy                           1.00     70932\n",
      "   macro avg       0.89      0.82      0.85     70932\n",
      "weighted avg       1.00      1.00      1.00     70932\n",
      "\n"
     ]
    },
    {
     "data": {
      "image/png": "[encoded data removed]",
      "text/plain": [
       "<Figure size 432x288 with 2 Axes>"
      ]
     },
     "metadata": {
      "needs_background": "light"
     },
     "output_type": "display_data"
    }
   ],
   "source": [
    "display_confusion_matrix(log_reg_pred, y_test)"
   ]
  },
  {
   "cell_type": "markdown",
   "id": "d45ce805",
   "metadata": {},
   "source": [
    "### 4.2 SVM"
   ]
  },
  {
   "cell_type": "code",
   "execution_count": 36,
   "id": "b5cd04fd",
   "metadata": {},
   "outputs": [
    {
     "name": "stdout",
     "output_type": "stream",
     "text": [
      "Training Recall (mean): 0.169\n",
      "Standard deviation: 0.092\n",
      "\n"
     ]
    }
   ],
   "source": [
    "from sklearn.svm import LinearSVC\n",
    "\n",
    "svm = LinearSVC(random_state=42)\n",
    "svm_results = cross_val_score(svm, X_train, y_train, scoring=\"recall\", cv=5, n_jobs = -1)\n",
    "\n",
    "display_scores(svm_results)"
   ]
  },
  {
   "cell_type": "code",
   "execution_count": 37,
   "id": "10e4fe76",
   "metadata": {},
   "outputs": [
    {
     "name": "stdout",
     "output_type": "stream",
     "text": [
      "Time taken: 0 hours 0 minutes and 48.6 seconds.\n"
     ]
    }
   ],
   "source": [
    "start_time = datetime.now()\n",
    "\n",
    "svm.fit(X_train, y_train)\n",
    "\n",
    "time_hour, temp_sec = divmod((datetime.now() - start_time).total_seconds(), 3600)\n",
    "time_min, time_sec = divmod(temp_sec, 60)\n",
    "\n",
    "print('Time taken: %i hours %i minutes and %s seconds.' % (time_hour, time_min, round(time_sec, 2)))"
   ]
  },
  {
   "cell_type": "code",
   "execution_count": 38,
   "id": "22686c94",
   "metadata": {},
   "outputs": [
    {
     "name": "stdout",
     "output_type": "stream",
     "text": [
      "Test Summary:\n",
      "Accuracy: 0.998\n",
      "Precision: 1.000\n",
      "F1 Score: 0.069 \n",
      "Recall Score: 0.036 \n"
     ]
    }
   ],
   "source": [
    "svm_pred = test_model(svm, X_test, y_test)"
   ]
  },
  {
   "cell_type": "code",
   "execution_count": 39,
   "id": "81fd600e",
   "metadata": {},
   "outputs": [
    {
     "name": "stdout",
     "output_type": "stream",
     "text": [
      "              precision    recall  f1-score   support\n",
      "\n",
      "           0       1.00      1.00      1.00     70820\n",
      "           1       1.00      0.04      0.07       112\n",
      "\n",
      "    accuracy                           1.00     70932\n",
      "   macro avg       1.00      0.52      0.53     70932\n",
      "weighted avg       1.00      1.00      1.00     70932\n",
      "\n"
     ]
    },
    {
     "data": {
      "image/png": "[encoded data removed]",
      "text/plain": [
       "<Figure size 432x288 with 2 Axes>"
      ]
     },
     "metadata": {
      "needs_background": "light"
     },
     "output_type": "display_data"
    }
   ],
   "source": [
    "display_confusion_matrix(svm_pred, y_test)"
   ]
  },
  {
   "cell_type": "markdown",
   "id": "7f998966",
   "metadata": {},
   "source": [
    "### 4.3 Decision Tree"
   ]
  },
  {
   "cell_type": "code",
   "execution_count": 40,
   "id": "5176824f",
   "metadata": {},
   "outputs": [
    {
     "name": "stdout",
     "output_type": "stream",
     "text": [
      "Training Recall (mean): 0.773\n",
      "Standard deviation: 0.082\n",
      "\n"
     ]
    }
   ],
   "source": [
    "from sklearn.tree import DecisionTreeClassifier\n",
    "\n",
    "dt = DecisionTreeClassifier(random_state=42)\n",
    "dt_results = cross_val_score(dt, X_train, y_train, scoring=\"recall\", cv=5, n_jobs = -1)\n",
    "\n",
    "display_scores(dt_results)"
   ]
  },
  {
   "cell_type": "code",
   "execution_count": 41,
   "id": "eaa5da21",
   "metadata": {},
   "outputs": [
    {
     "name": "stdout",
     "output_type": "stream",
     "text": [
      "Time taken: 0 hours 0 minutes and 24.14 seconds.\n"
     ]
    }
   ],
   "source": [
    "start_time = datetime.now()\n",
    "\n",
    "dt.fit(X_train, y_train)\n",
    "\n",
    "time_hour, temp_sec = divmod((datetime.now() - start_time).total_seconds(), 3600)\n",
    "time_min, time_sec = divmod(temp_sec, 60)\n",
    "\n",
    "print('Time taken: %i hours %i minutes and %s seconds.' % (time_hour, time_min, round(time_sec, 2)))"
   ]
  },
  {
   "cell_type": "code",
   "execution_count": 42,
   "id": "11ad061b",
   "metadata": {},
   "outputs": [
    {
     "data": {
      "image/png": "[encoded data removed]",
      "text/plain": [
       "<Figure size 432x288 with 1 Axes>"
      ]
     },
     "metadata": {
      "needs_background": "light"
     },
     "output_type": "display_data"
    },
    {
     "name": "stdout",
     "output_type": "stream",
     "text": [
      "Test Summary:\n",
      "Accuracy: 0.999\n",
      "AUPRC: 0.731 \n",
      "Precision: 0.712\n",
      "F1 Score: 0.730 \n",
      "Recall Score: 0.750 \n"
     ]
    }
   ],
   "source": [
    "df_pred = test_model(dt, X_test, y_test)"
   ]
  },
  {
   "cell_type": "code",
   "execution_count": 43,
   "id": "556198b3",
   "metadata": {},
   "outputs": [
    {
     "name": "stdout",
     "output_type": "stream",
     "text": [
      "              precision    recall  f1-score   support\n",
      "\n",
      "           0       1.00      1.00      1.00     70820\n",
      "           1       0.71      0.75      0.73       112\n",
      "\n",
      "    accuracy                           1.00     70932\n",
      "   macro avg       0.86      0.87      0.86     70932\n",
      "weighted avg       1.00      1.00      1.00     70932\n",
      "\n"
     ]
    },
    {
     "data": {
      "image/png": "[encoded data removed]",
      "text/plain": [
       "<Figure size 432x288 with 2 Axes>"
      ]
     },
     "metadata": {
      "needs_background": "light"
     },
     "output_type": "display_data"
    }
   ],
   "source": [
    "display_confusion_matrix(df_pred, y_test)"
   ]
  },
  {
   "cell_type": "markdown",
   "id": "50a805c9",
   "metadata": {},
   "source": [
    "## 4.4 Random Forest"
   ]
  },
  {
   "cell_type": "code",
   "execution_count": 44,
   "id": "cf8d01ab",
   "metadata": {},
   "outputs": [
    {
     "name": "stdout",
     "output_type": "stream",
     "text": [
      "Training Recall (mean): 0.778\n",
      "Standard deviation: 0.086\n",
      "\n"
     ]
    }
   ],
   "source": [
    "# Import the model we are using\n",
    "from sklearn.ensemble import RandomForestClassifier\n",
    "\n",
    "rf = RandomForestClassifier(random_state = 42)\n",
    "rf_results = cross_val_score(rf, X_train, y_train,cv=5, scoring=\"recall\", n_jobs = -1)\n",
    "\n",
    "display_scores(rf_results)"
   ]
  },
  {
   "cell_type": "code",
   "execution_count": 45,
   "id": "070ab271",
   "metadata": {},
   "outputs": [
    {
     "name": "stdout",
     "output_type": "stream",
     "text": [
      "Time taken: 0 hours 3 minutes and 16.11 seconds.\n"
     ]
    }
   ],
   "source": [
    "start_time = datetime.now()\n",
    "\n",
    "rf.fit(X_train, y_train)\n",
    "\n",
    "time_hour, temp_sec = divmod((datetime.now() - start_time).total_seconds(), 3600)\n",
    "time_min, time_sec = divmod(temp_sec, 60)\n",
    "\n",
    "print('Time taken: %i hours %i minutes and %s seconds.' % (time_hour, time_min, round(time_sec, 2)))"
   ]
  },
  {
   "cell_type": "code",
   "execution_count": 46,
   "id": "af7ac530",
   "metadata": {},
   "outputs": [
    {
     "data": {
      "image/png": "[encoded data removed]",
      "text/plain": [
       "<Figure size 432x288 with 1 Axes>"
      ]
     },
     "metadata": {
      "needs_background": "light"
     },
     "output_type": "display_data"
    },
    {
     "name": "stdout",
     "output_type": "stream",
     "text": [
      "Test Summary:\n",
      "Accuracy: 1.000\n",
      "AUPRC: 0.835 \n",
      "Precision: 0.953\n",
      "F1 Score: 0.828 \n",
      "Recall Score: 0.732 \n"
     ]
    }
   ],
   "source": [
    "rf_pred = test_model(rf, X_test, y_test)"
   ]
  },
  {
   "cell_type": "code",
   "execution_count": 47,
   "id": "4948b5b5",
   "metadata": {},
   "outputs": [
    {
     "name": "stdout",
     "output_type": "stream",
     "text": [
      "              precision    recall  f1-score   support\n",
      "\n",
      "           0       1.00      1.00      1.00     70820\n",
      "           1       0.95      0.73      0.83       112\n",
      "\n",
      "    accuracy                           1.00     70932\n",
      "   macro avg       0.98      0.87      0.91     70932\n",
      "weighted avg       1.00      1.00      1.00     70932\n",
      "\n"
     ]
    },
    {
     "data": {
      "image/png": "[encoded data removed]",
      "text/plain": [
       "<Figure size 432x288 with 2 Axes>"
      ]
     },
     "metadata": {
      "needs_background": "light"
     },
     "output_type": "display_data"
    }
   ],
   "source": [
    "display_confusion_matrix(rf_pred, y_test)"
   ]
  },
  {
   "cell_type": "markdown",
   "id": "3e3becca",
   "metadata": {},
   "source": [
    "### 4.5 XGBoost"
   ]
  },
  {
   "cell_type": "code",
   "execution_count": 48,
   "id": "42de7dd6",
   "metadata": {},
   "outputs": [],
   "source": [
    "#uncomment if need to install\n",
    "#!pip install xgboost"
   ]
  },
  {
   "cell_type": "code",
   "execution_count": 49,
   "id": "0b2c16c6",
   "metadata": {},
   "outputs": [
    {
     "name": "stderr",
     "output_type": "stream",
     "text": [
      "[Parallel(n_jobs=-1)]: Using backend LokyBackend with 4 concurrent workers.\n",
      "[Parallel(n_jobs=-1)]: Done   2 out of   5 | elapsed:  3.9min remaining:  5.8min\n",
      "[Parallel(n_jobs=-1)]: Done   3 out of   5 | elapsed:  3.9min remaining:  2.6min\n",
      "[Parallel(n_jobs=-1)]: Done   5 out of   5 | elapsed:  5.5min remaining:    0.0s\n",
      "[Parallel(n_jobs=-1)]: Done   5 out of   5 | elapsed:  5.5min finished\n"
     ]
    },
    {
     "name": "stdout",
     "output_type": "stream",
     "text": [
      "Training Recall (mean): 0.784\n",
      "Standard deviation: 0.084\n",
      "\n"
     ]
    }
   ],
   "source": [
    "import xgboost as xgb\n",
    "\n",
    "xgb_classifier = xgb.XGBClassifier()\n",
    "xgb_classifier_results = cross_val_score(xgb_classifier, X_train, y_train,cv=5, scoring=\"recall\", n_jobs = -1, verbose = 10)\n",
    "\n",
    "display_scores(xgb_classifier_results)"
   ]
  },
  {
   "cell_type": "code",
   "execution_count": 50,
   "id": "095b7f8d",
   "metadata": {},
   "outputs": [
    {
     "name": "stdout",
     "output_type": "stream",
     "text": [
      "Time taken: 0 hours 1 minutes and 17.21 seconds.\n"
     ]
    }
   ],
   "source": [
    "start_time = datetime.now()\n",
    "\n",
    "xgb_classifier.fit(X_train, y_train)\n",
    "\n",
    "time_hour, temp_sec = divmod((datetime.now() - start_time).total_seconds(), 3600)\n",
    "time_min, time_sec = divmod(temp_sec, 60)\n",
    "\n",
    "print('Time taken: %i hours %i minutes and %s seconds.' % (time_hour, time_min, round(time_sec, 2)))"
   ]
  },
  {
   "cell_type": "code",
   "execution_count": 51,
   "id": "7c3f1b5e",
   "metadata": {
    "scrolled": true
   },
   "outputs": [
    {
     "data": {
      "image/png": "[encoded data removed]",
      "text/plain": [
       "<Figure size 432x288 with 1 Axes>"
      ]
     },
     "metadata": {
      "needs_background": "light"
     },
     "output_type": "display_data"
    },
    {
     "name": "stdout",
     "output_type": "stream",
     "text": [
      "Test Summary:\n",
      "Accuracy: 1.000\n",
      "AUPRC: 0.832 \n",
      "Precision: 0.956\n",
      "F1 Score: 0.851 \n",
      "Recall Score: 0.768 \n"
     ]
    }
   ],
   "source": [
    "xgb_pred = test_model(xgb_classifier, X_test, y_test)"
   ]
  },
  {
   "cell_type": "code",
   "execution_count": 52,
   "id": "85043e2a",
   "metadata": {},
   "outputs": [
    {
     "name": "stdout",
     "output_type": "stream",
     "text": [
      "              precision    recall  f1-score   support\n",
      "\n",
      "           0       1.00      1.00      1.00     70820\n",
      "           1       0.96      0.77      0.85       112\n",
      "\n",
      "    accuracy                           1.00     70932\n",
      "   macro avg       0.98      0.88      0.93     70932\n",
      "weighted avg       1.00      1.00      1.00     70932\n",
      "\n"
     ]
    },
    {
     "data": {
      "image/png": "[encoded data removed]",
      "text/plain": [
       "<Figure size 432x288 with 2 Axes>"
      ]
     },
     "metadata": {
      "needs_background": "light"
     },
     "output_type": "display_data"
    }
   ],
   "source": [
    "display_confusion_matrix(xgb_pred, y_test)"
   ]
  },
  {
   "cell_type": "markdown",
   "id": "3c0db9f0",
   "metadata": {},
   "source": [
    "### 4.6 Results "
   ]
  },
  {
   "cell_type": "markdown",
   "id": "ca513557",
   "metadata": {},
   "source": [
    "As the classes are totally unbalanced, we will look into AUPRC and Recall. The accuracy of all models are close to 1 due to it's unbalance, so we won't look at it.\n",
    "\n",
    "Remember, the recall measures the model's ability to detect Positive samples. That's what we are looking for!"
   ]
  },
  {
   "cell_type": "markdown",
   "id": "26c18b8d",
   "metadata": {},
   "source": [
    "    | Model               | AUPRC           | Recall\n",
    "    __________________________________________________________\n",
    "    \n",
    "    | Logistic Regression |   0.559         | 0.643\n",
    "    | SVM *               |   -             | 0.035\n",
    "    | Decision Tree       |   0.731         | 0.750   \n",
    "    | Random Forest       |   0.835         | 0.732 \n",
    "    | XGBoost             |   0.832         | 0.768\n",
    "\n",
    "PS:   SVM acan not have the Area Under Precision Recall Curve because it does not have the predict_proba function that returns the probability of it's classification.\n",
    "\n",
    "As expected, SVMs were pretty bad due to unbalance.\n",
    "\n",
    "As we can see above the two best models are **XGBoost, Random Forest and Decision Tree**.  \n"
   ]
  },
  {
   "cell_type": "markdown",
   "id": "eee61ce1",
   "metadata": {},
   "source": [
    "## 5. Fine Tuning best models"
   ]
  },
  {
   "cell_type": "markdown",
   "id": "617b5fdb",
   "metadata": {},
   "source": [
    "As we saw above, the best models were XGBoost ,Random Forest and Random Forest, let's try to improve them."
   ]
  },
  {
   "cell_type": "markdown",
   "id": "e241a02e",
   "metadata": {},
   "source": [
    "### 5.1 Fine Tuning the Random Forest"
   ]
  },
  {
   "cell_type": "markdown",
   "id": "15fbb526",
   "metadata": {},
   "source": [
    "Let's look into the current parameters"
   ]
  },
  {
   "cell_type": "code",
   "execution_count": 53,
   "id": "2ce8901f",
   "metadata": {},
   "outputs": [
    {
     "name": "stdout",
     "output_type": "stream",
     "text": [
      "Parameters currently in use:\n",
      "\n",
      "{'bootstrap': True,\n",
      " 'ccp_alpha': 0.0,\n",
      " 'class_weight': None,\n",
      " 'criterion': 'gini',\n",
      " 'max_depth': None,\n",
      " 'max_features': 'sqrt',\n",
      " 'max_leaf_nodes': None,\n",
      " 'max_samples': None,\n",
      " 'min_impurity_decrease': 0.0,\n",
      " 'min_samples_leaf': 1,\n",
      " 'min_samples_split': 2,\n",
      " 'min_weight_fraction_leaf': 0.0,\n",
      " 'n_estimators': 100,\n",
      " 'n_jobs': None,\n",
      " 'oob_score': False,\n",
      " 'random_state': 42,\n",
      " 'verbose': 0,\n",
      " 'warm_start': False}\n"
     ]
    }
   ],
   "source": [
    "from pprint import pprint\n",
    "\n",
    "# Look at parameters used by our current forest\n",
    "print('Parameters currently in use:\\n')\n",
    "pprint(rf.get_params())"
   ]
  },
  {
   "cell_type": "markdown",
   "id": "a025d83d",
   "metadata": {},
   "source": [
    "let's create a list of parameter to search for the best one"
   ]
  },
  {
   "cell_type": "code",
   "execution_count": 54,
   "id": "63a3fbc0",
   "metadata": {},
   "outputs": [],
   "source": [
    "# Maximum number of levels in tree\n",
    "max_depth = [int(x) for x in np.linspace(1, 20, num = 5)]\n",
    "max_depth.append(None)\n",
    "\n",
    "# Method of selecting samples for training each tree\n",
    "bootstrap = [True, False]\n",
    "\n",
    "# Create the param grid\n",
    "param_grid = {\n",
    "    'bootstrap': bootstrap,\n",
    "    'max_depth': max_depth,\n",
    "    'n_estimators': [10, 50, 100]\n",
    "}"
   ]
  },
  {
   "cell_type": "code",
   "execution_count": 55,
   "id": "48cbe483",
   "metadata": {},
   "outputs": [],
   "source": [
    "from sklearn.model_selection import RandomizedSearchCV\n",
    "\n",
    "rf_random = RandomizedSearchCV(estimator = rf,param_distributions = param_grid, random_state=42, n_jobs = -1)"
   ]
  },
  {
   "cell_type": "markdown",
   "id": "755a5615",
   "metadata": {},
   "source": [
    "looking (training) for the best hyperparameter for the model"
   ]
  },
  {
   "cell_type": "code",
   "execution_count": 57,
   "id": "bc530dde",
   "metadata": {},
   "outputs": [
    {
     "name": "stdout",
     "output_type": "stream",
     "text": [
      "Time taken: 0 hours 41 minutes and 8.23 seconds.\n"
     ]
    }
   ],
   "source": [
    "start_time = datetime.now()\n",
    "\n",
    "rf_random.fit(X_train, y_train)\n",
    "\n",
    "time_hour, temp_sec = divmod((datetime.now() - start_time).total_seconds(), 3600)\n",
    "time_min, time_sec = divmod(temp_sec, 60)\n",
    "\n",
    "print('Time taken: %i hours %i minutes and %s seconds.' % (time_hour, time_min, round(time_sec, 2)))"
   ]
  },
  {
   "cell_type": "code",
   "execution_count": 58,
   "id": "d4ec104d",
   "metadata": {},
   "outputs": [
    {
     "data": {
      "image/png": "[encoded data removed]",
      "text/plain": [
       "<Figure size 432x288 with 1 Axes>"
      ]
     },
     "metadata": {
      "needs_background": "light"
     },
     "output_type": "display_data"
    },
    {
     "name": "stdout",
     "output_type": "stream",
     "text": [
      "Test Summary:\n",
      "Accuracy: 1.000\n",
      "AUPRC: 0.833 \n",
      "Precision: 0.944\n",
      "F1 Score: 0.836 \n",
      "Recall Score: 0.750 \n"
     ]
    },
    {
     "data": {
      "text/plain": [
       "array([0, 0, 0, ..., 0, 0, 0], dtype=int64)"
      ]
     },
     "execution_count": 58,
     "metadata": {},
     "output_type": "execute_result"
    }
   ],
   "source": [
    "test_model(rf_random, X_test, y_test)"
   ]
  },
  {
   "cell_type": "code",
   "execution_count": 59,
   "id": "9443a1c9",
   "metadata": {},
   "outputs": [
    {
     "data": {
      "text/plain": [
       "{'n_estimators': 50, 'max_depth': 20, 'bootstrap': False}"
      ]
     },
     "execution_count": 59,
     "metadata": {},
     "output_type": "execute_result"
    }
   ],
   "source": [
    "rf_random.best_params_"
   ]
  },
  {
   "cell_type": "markdown",
   "id": "d6320385",
   "metadata": {},
   "source": [
    "The above parameter were the best "
   ]
  },
  {
   "cell_type": "markdown",
   "id": "9454ef65",
   "metadata": {},
   "source": [
    "### 5.2 Fine Tuning XGBoost"
   ]
  },
  {
   "cell_type": "markdown",
   "id": "4adf0758",
   "metadata": {},
   "source": [
    "Let's look into the currente parameters"
   ]
  },
  {
   "cell_type": "code",
   "execution_count": 60,
   "id": "e334d804",
   "metadata": {},
   "outputs": [
    {
     "name": "stdout",
     "output_type": "stream",
     "text": [
      "Parameters currently in use:\n",
      "\n",
      "{'base_score': 0.5,\n",
      " 'booster': 'gbtree',\n",
      " 'callbacks': None,\n",
      " 'colsample_bylevel': 1,\n",
      " 'colsample_bynode': 1,\n",
      " 'colsample_bytree': 1,\n",
      " 'early_stopping_rounds': None,\n",
      " 'enable_categorical': False,\n",
      " 'eval_metric': None,\n",
      " 'feature_types': None,\n",
      " 'gamma': 0,\n",
      " 'gpu_id': -1,\n",
      " 'grow_policy': 'depthwise',\n",
      " 'importance_type': None,\n",
      " 'interaction_constraints': '',\n",
      " 'learning_rate': 0.300000012,\n",
      " 'max_bin': 256,\n",
      " 'max_cat_threshold': 64,\n",
      " 'max_cat_to_onehot': 4,\n",
      " 'max_delta_step': 0,\n",
      " 'max_depth': 6,\n",
      " 'max_leaves': 0,\n",
      " 'min_child_weight': 1,\n",
      " 'missing': nan,\n",
      " 'monotone_constraints': '()',\n",
      " 'n_estimators': 100,\n",
      " 'n_jobs': 0,\n",
      " 'num_parallel_tree': 1,\n",
      " 'objective': 'binary:logistic',\n",
      " 'predictor': 'auto',\n",
      " 'random_state': 0,\n",
      " 'reg_alpha': 0,\n",
      " 'reg_lambda': 1,\n",
      " 'sampling_method': 'uniform',\n",
      " 'scale_pos_weight': 1,\n",
      " 'subsample': 1,\n",
      " 'tree_method': 'exact',\n",
      " 'use_label_encoder': None,\n",
      " 'validate_parameters': 1,\n",
      " 'verbosity': None}\n"
     ]
    }
   ],
   "source": [
    "# Look at parameters used by our current forest\n",
    "print('Parameters currently in use:\\n')\n",
    "pprint(xgb_classifier.get_params())"
   ]
  },
  {
   "cell_type": "markdown",
   "id": "b3e05f47",
   "metadata": {},
   "source": [
    "Crete a list of hyperparameters"
   ]
  },
  {
   "cell_type": "code",
   "execution_count": 61,
   "id": "bc00b300",
   "metadata": {},
   "outputs": [],
   "source": [
    "param_grid = {\n",
    "        'min_child_weight': [1, 5, 10],\n",
    "        'gamma': [0.5, 1, 1.5, 2, 5],\n",
    "        'max_depth': [3, 4, 5]\n",
    "        }"
   ]
  },
  {
   "cell_type": "code",
   "execution_count": 63,
   "id": "f53cc743",
   "metadata": {},
   "outputs": [],
   "source": [
    "xgb_random = RandomizedSearchCV(xgb_classifier, param_distributions = param_grid, n_jobs=-1, random_state=42 )"
   ]
  },
  {
   "cell_type": "markdown",
   "id": "35ecf5ff",
   "metadata": {},
   "source": [
    "Looking (training) for the best hyperparameters"
   ]
  },
  {
   "cell_type": "code",
   "execution_count": 64,
   "id": "b87933ce",
   "metadata": {},
   "outputs": [
    {
     "name": "stdout",
     "output_type": "stream",
     "text": [
      "Fitting 5 folds for each of 10 candidates, totalling 50 fits\n",
      "Time taken: 0 hours 45 minutes and 54.05 seconds.\n"
     ]
    }
   ],
   "source": [
    "start_time = datetime.now()\n",
    "\n",
    "xgb_random.fit(X_train, y_train)\n",
    "\n",
    "time_hour, temp_sec = divmod((datetime.now() - start_time).total_seconds(), 3600)\n",
    "time_min, time_sec = divmod(temp_sec, 60)\n",
    "\n",
    "print('Time taken: %i hours %i minutes and %s seconds.' % (time_hour, time_min, round(time_sec, 2)))"
   ]
  },
  {
   "cell_type": "code",
   "execution_count": 65,
   "id": "59b1b20b",
   "metadata": {},
   "outputs": [
    {
     "data": {
      "image/png": "[encoded data removed]",
      "text/plain": [
       "<Figure size 432x288 with 1 Axes>"
      ]
     },
     "metadata": {
      "needs_background": "light"
     },
     "output_type": "display_data"
    },
    {
     "name": "stdout",
     "output_type": "stream",
     "text": [
      "Test Summary:\n",
      "Accuracy: 1.000\n",
      "AUPRC: 0.820 \n",
      "Precision: 0.944\n",
      "F1 Score: 0.836 \n",
      "Recall Score: 0.750 \n"
     ]
    },
    {
     "data": {
      "text/plain": [
       "array([0, 0, 0, ..., 0, 0, 0])"
      ]
     },
     "execution_count": 65,
     "metadata": {},
     "output_type": "execute_result"
    }
   ],
   "source": [
    "test_model(xgb_random, X_test, y_test)"
   ]
  },
  {
   "cell_type": "code",
   "execution_count": 66,
   "id": "4b6272c1",
   "metadata": {},
   "outputs": [
    {
     "data": {
      "text/plain": [
       "{'min_child_weight': 10, 'max_depth': 5, 'gamma': 1.5}"
      ]
     },
     "execution_count": 66,
     "metadata": {},
     "output_type": "execute_result"
    }
   ],
   "source": [
    "xgb_random.best_params_"
   ]
  },
  {
   "cell_type": "markdown",
   "id": "3f707aed",
   "metadata": {},
   "source": [
    "### 5.3 Fine Tuning the Decision Tree\n",
    "\n",
    "Let's look into the current parameters"
   ]
  },
  {
   "cell_type": "code",
   "execution_count": 67,
   "id": "328fdb2b",
   "metadata": {},
   "outputs": [
    {
     "name": "stdout",
     "output_type": "stream",
     "text": [
      "Parameters currently in use:\n",
      "\n",
      "{'ccp_alpha': 0.0,\n",
      " 'class_weight': None,\n",
      " 'criterion': 'gini',\n",
      " 'max_depth': None,\n",
      " 'max_features': None,\n",
      " 'max_leaf_nodes': None,\n",
      " 'min_impurity_decrease': 0.0,\n",
      " 'min_samples_leaf': 1,\n",
      " 'min_samples_split': 2,\n",
      " 'min_weight_fraction_leaf': 0.0,\n",
      " 'random_state': 42,\n",
      " 'splitter': 'best'}\n"
     ]
    }
   ],
   "source": [
    "from pprint import pprint\n",
    "\n",
    "# Look at parameters used by our current forest\n",
    "print('Parameters currently in use:\\n')\n",
    "pprint(dt.get_params())"
   ]
  },
  {
   "cell_type": "markdown",
   "id": "02caaba7",
   "metadata": {},
   "source": [
    "let's create a list of parameter to search for the best one"
   ]
  },
  {
   "cell_type": "code",
   "execution_count": 74,
   "id": "22d340cc",
   "metadata": {},
   "outputs": [],
   "source": [
    "# Maximum number of levels in tree\n",
    "max_depth = [int(x) for x in np.linspace(1, 40, num = 5)]\n",
    "max_depth.append(None)\n",
    "\n",
    "# Create the param grid\n",
    "param_grid = {\n",
    "    'max_depth': max_depth,\n",
    "    'min_samples_leaf': [5, 10, 20, 50, 100],\n",
    "    'criterion': [\"gini\", \"entropy\"]\n",
    "}"
   ]
  },
  {
   "cell_type": "code",
   "execution_count": 75,
   "id": "eec4c0a6",
   "metadata": {},
   "outputs": [],
   "source": [
    "dt_random = RandomizedSearchCV(estimator = dt,param_distributions = param_grid, random_state=42, n_jobs = -1)"
   ]
  },
  {
   "cell_type": "markdown",
   "id": "898a13fc",
   "metadata": {},
   "source": [
    "looking (training) for the best hyperparameter for the model"
   ]
  },
  {
   "cell_type": "code",
   "execution_count": 76,
   "id": "a0f01638",
   "metadata": {},
   "outputs": [
    {
     "name": "stdout",
     "output_type": "stream",
     "text": [
      "Time taken: 0 hours 5 minutes and 32.45 seconds.\n"
     ]
    }
   ],
   "source": [
    "start_time = datetime.now()\n",
    "\n",
    "dt_random.fit(X_train, y_train)\n",
    "\n",
    "time_hour, temp_sec = divmod((datetime.now() - start_time).total_seconds(), 3600)\n",
    "time_min, time_sec = divmod(temp_sec, 60)\n",
    "\n",
    "print('Time taken: %i hours %i minutes and %s seconds.' % (time_hour, time_min, round(time_sec, 2)))"
   ]
  },
  {
   "cell_type": "code",
   "execution_count": 77,
   "id": "7fbc035d",
   "metadata": {},
   "outputs": [
    {
     "data": {
      "image/png": "[encoded data removed]",
      "text/plain": [
       "<Figure size 432x288 with 1 Axes>"
      ]
     },
     "metadata": {
      "needs_background": "light"
     },
     "output_type": "display_data"
    },
    {
     "name": "stdout",
     "output_type": "stream",
     "text": [
      "Test Summary:\n",
      "Accuracy: 0.999\n",
      "AUPRC: 0.774 \n",
      "Precision: 0.902\n",
      "F1 Score: 0.814 \n",
      "Recall Score: 0.741 \n"
     ]
    },
    {
     "data": {
      "text/plain": [
       "array([0, 0, 0, ..., 0, 0, 0], dtype=int64)"
      ]
     },
     "execution_count": 77,
     "metadata": {},
     "output_type": "execute_result"
    }
   ],
   "source": [
    "test_model(dt_random, X_test, y_test)"
   ]
  },
  {
   "cell_type": "code",
   "execution_count": 78,
   "id": "7fc3019b",
   "metadata": {},
   "outputs": [
    {
     "data": {
      "text/plain": [
       "{'min_samples_leaf': 5, 'max_depth': 10, 'criterion': 'gini'}"
      ]
     },
     "execution_count": 78,
     "metadata": {},
     "output_type": "execute_result"
    }
   ],
   "source": [
    "dt_random.best_params_"
   ]
  },
  {
   "cell_type": "markdown",
   "id": "c46468d8",
   "metadata": {},
   "source": [
    "The above parameter were the best "
   ]
  },
  {
   "cell_type": "markdown",
   "id": "2f6503cc",
   "metadata": {},
   "source": [
    "#### Evaluating: old vs new results"
   ]
  },
  {
   "cell_type": "markdown",
   "id": "36a58438",
   "metadata": {},
   "source": [
    "    | Model               | AUPRC           | Recall\n",
    "    __________________________________________________________\n",
    "    \n",
    "    | Decision Tree (old) |   0.731         | 0.750\n",
    "    | Decision Tree (new) |   0.774         | 0.741    \n",
    "  \n",
    "    | Random Forest (old) |   0.835         | 0.732\n",
    "    | Random Forest (new) |   0.833         | 0.750\n",
    "    \n",
    "    | XGBoost (old)       |   0.832         | 0.758\n",
    "    | XGBoost (new)       |   0.820         | 0.750"
   ]
  },
  {
   "cell_type": "markdown",
   "id": "45a60034",
   "metadata": {},
   "source": [
    "As we can see, the fine tuning did'n have any substantial improve to any model"
   ]
  },
  {
   "cell_type": "markdown",
   "id": "1775caaf",
   "metadata": {},
   "source": [
    "### What else can be done ?\n",
    "\n",
    "- Downsampling on the negative class\n",
    "- Try SMOTE\n",
    "- Remove some features or categorize them \n",
    "- Try other Fine Tuning hyperparamter (had to set fewer than wanted, because my PC is very slow)"
   ]
  },
  {
   "cell_type": "code",
   "execution_count": null,
   "id": "7977739f",
   "metadata": {},
   "outputs": [],
   "source": []
  },
  {
   "cell_type": "markdown",
   "id": "045e417c",
   "metadata": {},
   "source": [
    "## References:\n",
    "Andrea Dal Pozzolo, Olivier Caelen, Reid A. Johnson and Gianluca Bontempi. Calibrating Probability with Undersampling for Unbalanced Classification. In Symposium on Computational Intelligence and Data Mining (CIDM), IEEE, 2015\n",
    "\n",
    "Dal Pozzolo, Andrea; Caelen, Olivier; Le Borgne, Yann-Ael; Waterschoot, Serge; Bontempi, Gianluca. Learned lessons in credit card fraud detection from a practitioner perspective, Expert systems with applications,41,10,4915-4928,2014, Pergamon\n",
    "\n",
    "Dal Pozzolo, Andrea; Boracchi, Giacomo; Caelen, Olivier; Alippi, Cesare; Bontempi, Gianluca. Credit card fraud detection: a realistic modeling and a novel learning strategy, IEEE transactions on neural networks and learning systems,29,8,3784-3797,2018,IEEE\n",
    "\n",
    "Dal Pozzolo, Andrea Adaptive Machine learning for credit card fraud detection ULB MLG PhD thesis (supervised by G. Bontempi)\n",
    "\n",
    "Carcillo, Fabrizio; Dal Pozzolo, Andrea; Le Borgne, Yann-Aël; Caelen, Olivier; Mazzer, Yannis; Bontempi, Gianluca. Scarff: a scalable framework for streaming credit card fraud detection with Spark, Information fusion,41, 182-194,2018,Elsevier\n",
    "\n",
    "Carcillo, Fabrizio; Le Borgne, Yann-Aël; Caelen, Olivier; Bontempi, Gianluca. Streaming active learning strategies for real-life credit card fraud detection: assessment and visualization, International Journal of Data Science and Analytics, 5,4,285-300,2018,Springer International Publishing\n",
    "\n",
    "Bertrand Lebichot, Yann-Aël Le Borgne, Liyun He, Frederic Oblé, Gianluca Bontempi Deep-Learning Domain Adaptation Techniques for Credit Cards Fraud Detection, INNSBDDL 2019: Recent Advances in Big Data and Deep Learning, pp 78-88, 2019\n",
    "\n",
    "Fabrizio Carcillo, Yann-Aël Le Borgne, Olivier Caelen, Frederic Oblé, Gianluca Bontempi Combining Unsupervised and Supervised Learning in Credit Card Fraud Detection Information Sciences, 2019\n",
    "\n",
    "Yann-Aël Le Borgne, Gianluca Bontempi Reproducible machine Learning for Credit Card Fraud Detection - Practical Handbook\n",
    "\n",
    "Bertrand Lebichot, Gianmarco Paldino, Wissam Siblini, Liyun He, Frederic Oblé, Gianluca Bontempi Incremental learning strategies for credit cards fraud detection, IInternational Journal of Data Science and Analytics"
   ]
  },
  {
   "cell_type": "markdown",
   "id": "f8a6477c",
   "metadata": {},
   "source": [
    "https://machinelearningmastery.com/roc-curves-and-precision-recall-curves-for-classification-in-python/"
   ]
  },
  {
   "cell_type": "markdown",
   "id": "d159c2fc",
   "metadata": {},
   "source": [
    "https://towardsdatascience.com/hyperparameter-tuning-the-random-forest-in-python-using-scikit-learn-28d2aa77dd74"
   ]
  },
  {
   "cell_type": "markdown",
   "id": "445da33c",
   "metadata": {},
   "source": [
    "https://www.section.io/engineering-education/random-search-hyperparameters/"
   ]
  },
  {
   "cell_type": "code",
   "execution_count": null,
   "id": "e430a444",
   "metadata": {},
   "outputs": [],
   "source": []
  }
 ],
 "metadata": {
  "kernelspec": {
   "display_name": "Python 3 (ipykernel)",
   "language": "python",
   "name": "python3"
  },
  "language_info": {
   "codemirror_mode": {
    "name": "ipython",
    "version": 3
   },
   "file_extension": ".py",
   "mimetype": "text/x-python",
   "name": "python",
   "nbconvert_exporter": "python",
   "pygments_lexer": "ipython3",
   "version": "3.10.2"
  }
 },
 "nbformat": 4,
 "nbformat_minor": 5
}
